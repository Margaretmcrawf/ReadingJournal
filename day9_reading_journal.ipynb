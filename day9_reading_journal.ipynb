{
 "cells": [
  {
   "cell_type": "markdown",
   "metadata": {},
   "source": [
    "# Day 9 Reading Journal\n",
    "\n",
    "This journal includes several required exercises, but it is meant to encourage active reading more generally.  You should use the journal to take detailed notes, catalog questions, and explore the content from Think Python deeply.\n",
    "\n",
    "Reading: Think Python Chapter 13, 15\n",
    "\n",
    "**Due: Monday, February 22 at 12 noon**\n",
    "\n"
   ]
  },
  {
   "cell_type": "markdown",
   "metadata": {},
   "source": [
    "## [Chapter 13](http://www.greenteapress.com/thinkpython/html/thinkpython014.html)\n",
    "\n",
    "The content in this chapter could be very helpful for the text mining mini project. The reading and all exercises within are optional.\n",
    "\n",
    " - Section 13.3-4 gives a good example of some techniques for working with files, processing text, and doing some simple analysis. \n",
    " - Section 13.8 and the Markov generation in Exercise 8 can be a lot of fun. \n",
    " - Now that you know a wide range of different data structures, Section 13.9 starts to give some guidance for choosing between them\n",
    " - Section 13.10 explains Allen's \"4 r's\" of debugging strategy"
   ]
  },
  {
   "cell_type": "markdown",
   "metadata": {},
   "source": [
    "## [Chapter 15](http://www.greenteapress.com/thinkpython/html/thinkpython016.html)\n",
    "\n",
    "This chapter has very few (and short) exercises, and is more focused on starting to think about classes and objects. If you haven't seen user defined types like classes before, you should read closely and try out some examples on your own. For example, you can write a [Python Tutor example like this one](http://pythontutor.com/visualize.html#code=%23+Example+for+visualizing+object+diagrams+by+stepping+through+the+code%0A%0Aclass+Point(object%29%3A%0A++++%22%22%22Represents+a+point+in+2-D+space.%22%22%22%0A++++pass%0A%0Aclass+Rectangle(object%29%3A%0A++++%22%22%22Represents+a+rectangle.+%0A%0A++++attributes%3A+width,+height,+corner.%0A++++%22%22%22%0A++++pass%0A%0A%0A%23+Create+a+point+to+serve+as+origin+for+our+rectangles%0Ap+%3D+Point(%29%0Ap.x+%3D+10%0Ap.y+%3D+15%0A%0A%23+Create+two+rectangles+with+different+size%0Ar1+%3D+Rectangle(%29%0Ar1.corner+%3D+p%0Ar1.width+%3D+100%0Ar1.height+%3D+100%0A%0Ar2+%3D+Rectangle(%29%0Ar2.corner+%3D+p%0Ar2.width+%3D+50%0Ar2.height+%3D+200%0A%0A%23+Change+the+width+of+r2+-+what+(if+any%29+is+the+effect+on+r1+and+why%3F%0Ar2.width+%3D+150%0Aprint+r1.width%0A%0A%23+Change+the+corner+position+of+r1+-+what+(if+any%29+is+the+effect+on+r2+and+why%3F%0Ar1.corner.x+%3D+20%0Aprint+r2.corner.x&mode=display&origin=opt-frontend.js&cumulative=false&heapPrimitives=false&textReferences=false&py=2&rawInputLstJSON=%5B%5D&curInstr=0) to explore object diagrams and aliasing.\n",
    "\n",
    "**Note**: The sequence of operations we use in this chapter to create class instances and assign their attributes, e.g. \n",
    "\n",
    "```\n",
    "box = Rectangle()\n",
    "box.width = 100.0\n",
    "box.height = 200.0\n",
    "box.corner = Point()\n",
    "box.corner.x = 0.0\n",
    "box.corner.y = 0.0\n",
    "```\n",
    "\n",
    "is somewhat clumsy and error prone. Things will get better in the next couple chapters; feel free to look ahead if you'd like a sneak preview.\n"
   ]
  },
  {
   "cell_type": "code",
   "execution_count": 7,
   "metadata": {
    "collapsed": false
   },
   "outputs": [
    {
     "name": "stdout",
     "output_type": "stream",
     "text": [
      "<__main__.Point instance at 0x7f17dc6e19e0>\n",
      "<__main__.Point instance at 0x7f17dc6e19e0>\n",
      "7\n"
     ]
    },
    {
     "data": {
      "text/plain": [
       "'(3, 4)'"
      ]
     },
     "execution_count": 7,
     "metadata": {},
     "output_type": "execute_result"
    }
   ],
   "source": [
    "class Point:\n",
    "    \"\"\"Represents a point in 2D space what how do I do this\"\"\"\n",
    "    \n",
    "blank = Point()\n",
    "print blank\n",
    "blank.x = 3.0\n",
    "blank.y = 4.0\n",
    "blank.q = 7\n",
    "print blank\n",
    "print blank.q \n",
    "#relies on user to follow the rules of the class. Point should just be x and y (because math)\n",
    "#but there's nothing stopping me from defining every letter of the alphabet\n",
    "'(%g, %g)' % (blank.x, blank.y)"
   ]
  },
  {
   "cell_type": "markdown",
   "metadata": {},
   "source": [
    "**Quick check:** In about one sentence using your own words, what is a class?"
   ]
  },
  {
   "cell_type": "markdown",
   "metadata": {},
   "source": [
    " "
   ]
  },
  {
   "cell_type": "markdown",
   "metadata": {
    "is_question": true,
    "problem": "Exercise 15.1"
   },
   "source": [
    "### Exercise 1  \n",
    "\n",
    "Write a function called `distance_between_points` that takes two `Points` as arguments and returns the distance between them."
   ]
  },
  {
   "cell_type": "code",
   "execution_count": 9,
   "metadata": {
    "collapsed": false,
    "solution": "Exercise 15.1"
   },
   "outputs": [
    {
     "data": {
      "text/plain": [
       "9.433981132056603"
      ]
     },
     "execution_count": 9,
     "metadata": {},
     "output_type": "execute_result"
    }
   ],
   "source": [
    "import math\n",
    "class Point:\n",
    "    \"\"\"Represents point in 2D space\"\"\"\n",
    "\n",
    "def distance_between_points(p,q):\n",
    "    return math.sqrt((p.y - q.y)**2 + (p.x - q.x)**2)\n",
    "\n",
    "pt1 = Point()\n",
    "pt1.x = 2.0\n",
    "pt1.y = 5.0\n",
    "pt2 = Point()\n",
    "pt2.x = 7.0\n",
    "pt2.y = -3.0\n",
    "\n",
    "distance_between_points(pt1, pt2)"
   ]
  },
  {
   "cell_type": "markdown",
   "metadata": {
    "is_question": true,
    "problem": "Exercise 15.2"
   },
   "source": [
    "### Exercise 2  \n",
    "\n",
    "Write a function named `move_rectangle` that takes a `Rectangle` and two numbers named `dx` and `dy`. It should change the location of the rectangle by adding `dx` to the `x` coordinate of `corner` and adding `dy` to the `y` coordinate of `corner`."
   ]
  },
  {
   "cell_type": "code",
   "execution_count": 16,
   "metadata": {
    "collapsed": false,
    "solution": "Exercise 15.2"
   },
   "outputs": [
    {
     "name": "stdout",
     "output_type": "stream",
     "text": [
      "11.0\n",
      "-4.0\n"
     ]
    }
   ],
   "source": [
    "class Rectangle:\n",
    "    \"\"\" make a rectangle with width, height and a corner point\"\"\"\n",
    "rect = Rectangle\n",
    "rect.width = 4.0\n",
    "rect.height = 6.0\n",
    "rect.ycorner = 3.0\n",
    "rect.xcorner = -7.0\n",
    "\n",
    "def move_rectangle(r, dx, dy):\n",
    "    r.ycorner += dy\n",
    "    r.xcorner += dx\n",
    "    return r\n",
    "\n",
    "move_rectangle(rect, 3, 8)\n",
    "print rect.ycorner\n",
    "print rect.xcorner"
   ]
  },
  {
   "cell_type": "markdown",
   "metadata": {
    "is_question": true,
    "problem": "Exercise 15.3"
   },
   "source": [
    "### Exercise 3  \n",
    "\n",
    "Write a version of `move_rectangle` that creates and returns a new `Rectangle` instead of modifying the old one."
   ]
  },
  {
   "cell_type": "code",
   "execution_count": 20,
   "metadata": {
    "collapsed": false,
    "solution": "Exercise 15.3"
   },
   "outputs": [
    {
     "name": "stdout",
     "output_type": "stream",
     "text": [
      "11.0\n",
      "-4.0\n",
      "6.0\n",
      "3.0\n"
     ]
    }
   ],
   "source": [
    "class Rectangle:\n",
    "    \"\"\" make a rectangle with width, height and a corner point\"\"\"\n",
    "rect = Rectangle()\n",
    "rect.width = 4.0\n",
    "rect.height = 6.0\n",
    "rect.ycorner = 3.0\n",
    "rect.xcorner = -7.0\n",
    "\n",
    "def move_rectangle(r, dx, dy):\n",
    "    s = Rectangle()\n",
    "    s.width = r.width\n",
    "    s.height = r.height\n",
    "    s.ycorner = r.ycorner + dy\n",
    "    s.xcorner = r.xcorner + dx\n",
    "    return s\n",
    "\n",
    "new = move_rectangle(rect, 3, 8)\n",
    "print new.ycorner\n",
    "print new.xcorner\n",
    "print new.height\n",
    "#new rectangle!\n",
    "\n",
    "print rect.ycorner\n",
    "#old one doesn't change"
   ]
  },
  {
   "cell_type": "markdown",
   "metadata": {
    "is_question": true,
    "problem": "Time spent"
   },
   "source": [
    "## Quick poll\n",
    "About how long did you spend working on this Reading Journal?"
   ]
  },
  {
   "cell_type": "markdown",
   "metadata": {
    "poll_response": true,
    "solution": "Time spent"
   },
   "source": [
    " "
   ]
  },
  {
   "cell_type": "markdown",
   "metadata": {
    "is_question": true,
    "problem": "Feedback"
   },
   "source": [
    "## Reading Journal feedback\n",
    "\n",
    "Have any comments on this Reading Journal? Feel free to leave them below and we'll read them when you submit your journal entry. This could include suggestions to improve the exercises, topics you'd like to see covered in class next time, or other feedback.\n",
    "\n",
    "If you have Python questions or run into problems while completing the reading, you should post them to Piazza instead so you can get a quick response before your journal is submitted."
   ]
  },
  {
   "cell_type": "markdown",
   "metadata": {
    "feedback_response": true,
    "solution": "Feedback"
   },
   "source": [
    " "
   ]
  }
 ],
 "metadata": {
  "celltoolbar": "Edit Metadata",
  "kernelspec": {
   "display_name": "Python 2",
   "language": "python",
   "name": "python2"
  },
  "language_info": {
   "codemirror_mode": {
    "name": "ipython",
    "version": 2
   },
   "file_extension": ".py",
   "mimetype": "text/x-python",
   "name": "python",
   "nbconvert_exporter": "python",
   "pygments_lexer": "ipython2",
   "version": "2.7.6"
  }
 },
 "nbformat": 4,
 "nbformat_minor": 0
}
