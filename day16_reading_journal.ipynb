{
 "cells": [
  {
   "cell_type": "markdown",
   "metadata": {},
   "source": [
    "# Day 16 Reading Journal\n",
    "\n",
    "This journal includes several required exercises, but it is meant to encourage active reading more generally.  You should use the journal to take detailed notes, catalog questions, and explore the content from Think Python deeply.\n",
    "\n",
    "Reading: Think Python Appendix B (through B.2)\n",
    "\n",
    "**Due: Monday, March 28 at 12 noon**\n"
   ]
  },
  {
   "cell_type": "markdown",
   "metadata": {},
   "source": [
    "## [Appendix B](http://www.greenteapress.com/thinkpython/html/thinkpython022.html)\n",
    "\n",
    "You only need to read as far as section B.2 (inclusive), but feel free to go further and try more exercises if you are interested."
   ]
  },
  {
   "cell_type": "code",
   "execution_count": 19,
   "metadata": {
    "collapsed": false
   },
   "outputs": [
    {
     "name": "stdout",
     "output_type": "stream",
     "text": [
      "None\n"
     ]
    }
   ],
   "source": [
    "def gcd (m, n): \n",
    "        if m % n == 0: \n",
    "            return n \n",
    "        else: \n",
    "            return gcd(n, m%n) \n",
    "class Fraction: \n",
    "    def __init__(self, numerator, denominator=1): \n",
    "        g = gcd(numerator, denominator)\n",
    "        self.numerator = numerator /g\n",
    "        self.denominator = denominator /g\n",
    "        \n",
    "    def __str__(self): \n",
    "        return \"%d/%d\" % (self.numerator, self.denominator)\n",
    "    \n",
    "    def __mul__(self, other): \n",
    "        if isinstance(other, int): \n",
    "            other = Fraction(other) \n",
    "            return Fraction(self.numerator   * other.numerator, \n",
    "                    self.denominator * other.denominator) \n",
    "    __rmul__ = __mul__\n",
    "    \n",
    "    def __add__(self, other): \n",
    "        if isinstance(other, int): \n",
    "            other = Fraction(other) \n",
    "        return Fraction(self.numerator   * other.denominator + \n",
    "                self.denominator * other.numerator, \n",
    "                self.denominator * other.denominator) \n",
    "    __radd__ = __add__ \n",
    "    \n",
    "    def __cmp__(self, other): \n",
    "        diff = (self.numerator  * other.denominator - \n",
    "                other.numerator * self.denominator) \n",
    "        return diff \n",
    "    \n",
    "    def __sub__(self, other):\n",
    "        if isinstance(other, int): \n",
    "            other = Fraction(other) \n",
    "        return Fraction(self.numerator   * other.denominator - \n",
    "                self.denominator * other.numerator, \n",
    "                self.denominator * other.denominator) \n",
    "    \n",
    "    def __rsub__(self,other):\n",
    "        if isinstance(other,int):\n",
    "            other = Fraction(other)\n",
    "        return Fraction(-self.numerator   * other.denominator + \n",
    "                self.denominator * other.numerator, \n",
    "                self.denominator * other.denominator) \n",
    "    \n",
    "    def __div__(self,other):\n",
    "        if isinstance(other, int): \n",
    "            other = Fraction(other) \n",
    "            return Fraction(self.numerator   * other.denominator, \n",
    "                    self.denominator * other.numerator) \n",
    "        \n",
    "    def __rdiv__(self,other):\n",
    "        if isinstance(other, int): \n",
    "            other = Fraction(other) \n",
    "            return Fraction(self.denominator   * other.numerator, \n",
    "                    self.numerator * other.denominator) \n",
    "        \n",
    "print Fraction(2, 3)/Fraction(2, 3)\n",
    "    \n",
    "\n",
    "\n"
   ]
  },
  {
   "cell_type": "markdown",
   "metadata": {},
   "source": [
    "Apparently this was the wrong appendix B. Shit."
   ]
  },
  {
   "cell_type": "code",
   "execution_count": null,
   "metadata": {
    "collapsed": true
   },
   "outputs": [],
   "source": []
  },
  {
   "cell_type": "markdown",
   "metadata": {
    "is_question": true,
    "problem": "Exercise B.1"
   },
   "source": [
    "### Exercise 1  \n",
    "\n",
    "Read the [Wikipedia page on Big-Oh notation](http://en.wikipedia.org/wiki/Big_O_notation) and answer the following questions:\n",
    "\n",
    " 1. What is the order of growth of n<sup>3</sup> + n<sup>2</sup>? What about 1000000 n<sup>3</sup> + n<sup>2</sup>? What about n<sup>3</sup> + 1000000 n<sup>2</sup>?\n",
    " 2. What is the order of growth of (n<sup>2</sup> + n) * (n + 1)? Before you start multiplying, remember that you only need the leading term.\n",
    " 3. If f is in O(g), for some unspecified function g, what can we say about af+b?\n",
    " 4. If f<sub>1</sub> and f<sub>2</sub> are in O(g), what can we say about f<sub>1</sub> + f<sub>2</sub>?\n",
    " 5. If f<sub>1</sub> is in O(g) and f<sub>2</sub> is in O(h), what can we say about f<sub>1</sub> + f<sub>2</sub>?\n",
    " 6. If f<sub>1</sub> is in O(g) and f<sub>2</sub> is O(h), what can we say about f<sub>1</sub> * f<sub>2</sub>? "
   ]
  },
  {
   "cell_type": "markdown",
   "metadata": {
    "collapsed": false,
    "solution": "Exercise B.1"
   },
   "source": [
    "  1. All are third order\n",
    "  2. Third order\n",
    "  3. ¯\\_(ツ)_/¯\n",
    "  4. ¯\\_(ツ)_/¯\n",
    "  5. O(|g| + |h|)\n",
    "  6. O(gh)\n",
    "  \n",
    "  I wasn't sure how to do the second two, and I couldn't find them in the article."
   ]
  },
  {
   "cell_type": "markdown",
   "metadata": {
    "is_poll": true,
    "is_question": true,
    "problem": "Time spent"
   },
   "source": [
    "## Quick poll\n",
    "About how long did you spend working on this Reading Journal?"
   ]
  },
  {
   "cell_type": "markdown",
   "metadata": {
    "poll_response": true,
    "solution": "Time spent"
   },
   "source": [
    "~45 min "
   ]
  },
  {
   "cell_type": "markdown",
   "metadata": {
    "is_question": true,
    "problem": "Feedback"
   },
   "source": [
    "## Reading Journal feedback\n",
    "\n",
    "Have any comments on this Reading Journal? Feel free to leave them below and we'll read them when you submit your journal entry. This could include suggestions to improve the exercises, topics you'd like to see covered in class next time, or other feedback.\n",
    "\n",
    "If you have Python questions or run into problems while completing the reading, you should post them to Piazza instead so you can get a quick response before your journal is submitted."
   ]
  },
  {
   "cell_type": "markdown",
   "metadata": {
    "feedback_response": true,
    "solution": "Feedback"
   },
   "source": [
    " "
   ]
  }
 ],
 "metadata": {
  "celltoolbar": "Edit Metadata",
  "kernelspec": {
   "display_name": "Python 2",
   "language": "python",
   "name": "python2"
  },
  "language_info": {
   "codemirror_mode": {
    "name": "ipython",
    "version": 2
   },
   "file_extension": ".py",
   "mimetype": "text/x-python",
   "name": "python",
   "nbconvert_exporter": "python",
   "pygments_lexer": "ipython2",
   "version": "2.7.6"
  }
 },
 "nbformat": 4,
 "nbformat_minor": 0
}
