{
 "cells": [
  {
   "cell_type": "markdown",
   "metadata": {},
   "source": [
    "# Day 11 Reading Journal\n",
    "\n",
    "This journal includes several required exercises, but it is meant to encourage active reading more generally.  You should use the journal to take detailed notes, catalog questions, and explore the content from Think Python deeply.\n",
    "\n",
    "Reading: Review Think Python Chapters 15-17\n",
    "\n",
    "**Due: Monday, February 29 at 12 noon**\n",
    "\n"
   ]
  },
  {
   "cell_type": "markdown",
   "metadata": {},
   "source": [
    "## [Chapter 15](http://www.greenteapress.com/thinkpython/html/thinkpython016.html), [Chapter 16](http://www.greenteapress.com/thinkpython/html/thinkpython017.html), [Chapter 17](http://www.greenteapress.com/thinkpython/html/thinkpython018.html)\n",
    "\n",
    "\n",
    "By the end of chapter 17, we have all the tools we need to create our own user-defined types known as classes. In this reading journal, we're asking you to review and solidify your understanding of this material so we can build on it for the rest of the course. \n",
    "\n",
    "If you didn't get a chance to fully complete the Day 10 reading journal, you may want to do so now."
   ]
  },
  {
   "cell_type": "markdown",
   "metadata": {
    "problem": "Terminology"
   },
   "source": [
    "### Terminology\n",
    "\n",
    "You should be familiar with the following list of terms and concepts. If any of them are unclear to you, re-read, ask, write a definition in your own words, and try an example if appropriate.\n",
    "\n",
    " - class\n",
    " - object\n",
    " - instance\n",
    " - attribute\n",
    " - method\n",
    " - shallow vs deep copying\n",
    " - pure functions vs modifiers\n",
    " - initializing object instances\n",
    " "
   ]
  },
  {
   "cell_type": "markdown",
   "metadata": {
    "is_question": true,
    "problem": "Exercise 1"
   },
   "source": [
    "### Exercise\n",
    "\n",
    "We're going to take the first steps toward writing a calendar application. To keep things simple, we'll restrict ourselves to a single day for now. Write an `Event` class with the following attributes:\n",
    "\n",
    " - `name`  : Title for the `Event`\n",
    " - `start` : `Time` object representing the start time for the `Event`\n",
    " - `end`   : `Time` object representing the end time for the `Event`\n",
    "\n",
    "You can also augment your `Event` class with additional attributes, such as location and attendees.\n",
    "\n",
    "Write `__init__` and `__str__` methods for your `Event` class."
   ]
  },
  {
   "cell_type": "code",
   "execution_count": 24,
   "metadata": {
    "collapsed": false,
    "solution": "Exercise 1"
   },
   "outputs": [
    {
     "name": "stdout",
     "output_type": "stream",
     "text": [
      "05:07:59,05:07:59\n"
     ]
    }
   ],
   "source": [
    "#create time class\n",
    "class Time:\n",
    "    def __init__(t, hour = 0, minute = 0, second = 0):\n",
    "        t.hour = hour\n",
    "        t.minute = minute\n",
    "        t.second = second\n",
    "    def __str__(t):\n",
    "        return \"{:02}:{:02}:{:02}\".format(t.hour, t.minute, t.second)\n",
    "\n",
    "#create event class, which includes two time objects as inputs\n",
    "class Event:\n",
    "    def __init__(name, start = Time(0, 0, 0), end = None):\n",
    "        if not end:\n",
    "            end = start\n",
    "        name.start = start\n",
    "        name.end = end\n",
    "    def __str__(name):\n",
    "        return str(name.start) + ',' + str(name.end)\n",
    "\n",
    "event = Event(Time(5,7,59))\n",
    "print event\n",
    "    \n",
    "    "
   ]
  },
  {
   "cell_type": "markdown",
   "metadata": {
    "is_question": true,
    "problem": "Exercise 2"
   },
   "source": [
    "### Exercise\n",
    "\n",
    "Write a `duration` method that returns the duration of the `Event` in minutes."
   ]
  },
  {
   "cell_type": "code",
   "execution_count": 31,
   "metadata": {
    "collapsed": false,
    "solution": "Exercise 2"
   },
   "outputs": [
    {
     "name": "stdout",
     "output_type": "stream",
     "text": [
      "60\n"
     ]
    }
   ],
   "source": [
    "#create time class\n",
    "class Time:\n",
    "    \"\"\" Takes as input time in hours, minutes and seconds.\n",
    "    relies on user to make sure numbers are less than 60/24 what have you\"\"\"\n",
    "    def __init__(t, hour = 0, minute = 0, second = 0):\n",
    "        t.hour = hour\n",
    "        t.minute = minute\n",
    "        t.second = second\n",
    "    def __str__(t):\n",
    "        return \"{:02}:{:02}:{:02}\".format(t.hour, t.minute, t.second)\n",
    "\n",
    "#create event class, which includes two time objects as inputs\n",
    "class Event:\n",
    "    def __init__(name, start = Time(0, 0, 0), end = None):\n",
    "        if not end:\n",
    "            end = start\n",
    "        name.start = start\n",
    "        name.end = end\n",
    "    def __str__(name):\n",
    "        return str(name.start) + ',' + str(name.end)\n",
    "    def duration(name):\n",
    "        name.start.inminutes = name.start.hour*60 + name.start.minute\n",
    "        name.end.inminutes = name.end.hour*60 + name.end.minute\n",
    "        return name.end.inminutes - name.start.inminutes\n",
    "\n",
    "event = Event(Time(5,7,59), Time(6,7,59))\n",
    "print event.duration()"
   ]
  },
  {
   "cell_type": "markdown",
   "metadata": {
    "is_question": true,
    "problem": "Exercise 3"
   },
   "source": [
    "### Exercise\n",
    "\n",
    "Write an `Agenda` class that contains several `Event`s for the day.\n",
    "\n",
    "**Quick check: ** How should you store `Event`s within your `Agenda` class?\n",
    "\n",
    "Your `Agenda` class should include a `print_agenda` method that prints out your schedule for the day, in order.\n",
    "\n",
    "**Optional:** Include a `is_feasible` method that returns `True` if your schedule has no time conflicts. You may want to write additional helper methods for the `Event` class to make this easier."
   ]
  },
  {
   "cell_type": "code",
   "execution_count": 4,
   "metadata": {
    "collapsed": false,
    "solution": "Exercise 3"
   },
   "outputs": [
    {
     "name": "stdout",
     "output_type": "stream",
     "text": [
      "party: 04:10:00 to 07:30:00\n",
      "crying: 04:20:00 to 04:30:00\n"
     ]
    }
   ],
   "source": [
    "#create time class\n",
    "class Time:\n",
    "    def __init__(self, hour=0, minute=0, second=0):\n",
    "        self.hour = hour\n",
    "        self.minute = minute\n",
    "        self.second = second\n",
    "    def __str__(self):\n",
    "        return \"{:02}:{:02}:{:02}\".format(self.hour, self.minute, self.second)\n",
    "\n",
    "#create event class, which includes two time objects as inputs\n",
    "class Event:\n",
    "    def __init__(self, start=Time(0, 0, 0), end=None, name='no name'):\n",
    "        if not end:\n",
    "            end = start\n",
    "        self.start = start\n",
    "        self.end = end\n",
    "        self.name = name\n",
    "    def __str__(self):\n",
    "        return str(self.start) + ' to ' + str(self.end)\n",
    "    def duration(self):\n",
    "        self.start.inminutes = self.start.hour*60 + self.start.minute\n",
    "        self.end.inminutes = self.end.hour*60 + self.end.minute\n",
    "        return self.end.inminutes - self.start.inminutes\n",
    "    \n",
    "class Agenda:\n",
    "    def __init__(self, *args):\n",
    "        self.events = args\n",
    "    def sort(self):\n",
    "        #sorts by starting hour, probably.\n",
    "        return sorted(self.events, key = lambda event: event.start.hour*60 + event.start.minute)\n",
    "    def print_agenda(self):\n",
    "        names = [str(event.name) for event in self.sort()]\n",
    "        times = [str(event) for event in self.sort()]\n",
    "        print '\\n'.join([name + ': ' + time for name, time in zip(names, times)])\n",
    "        \n",
    "          \n",
    "event1 = Event(Time(4,10), Time(7,30,0), 'party')\n",
    "event2 = Event(Time(4,20), Time(4, 30), 'crying')\n",
    "agenda = Agenda(event1, event2)\n",
    "        \n",
    "agenda.print_agenda()"
   ]
  },
  {
   "cell_type": "markdown",
   "metadata": {
    "is_question": true,
    "problem": "Exercise 4"
   },
   "source": [
    "### Going Beyond (optional)\n",
    "\n",
    "Some ideas for taking your application further:\n",
    " - Add people and/or places to the mix to create a scheduling assistant\n",
    " - Extend support for day-of-week or full date. A word of warning: dealing with dates and times in real applications is difficult due to the huge number of special cases (Perfect example: this reading journal is due on Leap Day). Consider using something like the Python [datetime](https://docs.python.org/2/library/datetime.html) module.\n",
    " - Use pickle or some other persistence strategy to save and load your `Agenda`."
   ]
  },
  {
   "cell_type": "code",
   "execution_count": null,
   "metadata": {
    "collapsed": true,
    "solution": "Exercise 4"
   },
   "outputs": [],
   "source": []
  },
  {
   "cell_type": "markdown",
   "metadata": {
    "is_poll": true,
    "is_question": true,
    "problem": "Time spent"
   },
   "source": [
    "## Quick poll\n",
    "About how long did you spend working on this Reading Journal?"
   ]
  },
  {
   "cell_type": "markdown",
   "metadata": {
    "poll_response": true,
    "solution": "Time spent"
   },
   "source": [
    " "
   ]
  },
  {
   "cell_type": "markdown",
   "metadata": {
    "is_question": true,
    "problem": "Feedback"
   },
   "source": [
    "## Reading Journal feedback\n",
    "\n",
    "Have any comments on this Reading Journal? Feel free to leave them below and we'll read them when you submit your journal entry. This could include suggestions to improve the exercises, topics you'd like to see covered in class next time, or other feedback.\n",
    "\n",
    "If you have Python questions or run into problems while completing the reading, you should post them to Piazza instead so you can get a quick response before your journal is submitted."
   ]
  },
  {
   "cell_type": "markdown",
   "metadata": {
    "feedback_response": true,
    "solution": "Feedback"
   },
   "source": [
    " "
   ]
  }
 ],
 "metadata": {
  "celltoolbar": "Edit Metadata",
  "kernelspec": {
   "display_name": "Python 2",
   "language": "python",
   "name": "python2"
  },
  "language_info": {
   "codemirror_mode": {
    "name": "ipython",
    "version": 2
   },
   "file_extension": ".py",
   "mimetype": "text/x-python",
   "name": "python",
   "nbconvert_exporter": "python",
   "pygments_lexer": "ipython2",
   "version": "2.7.6"
  }
 },
 "nbformat": 4,
 "nbformat_minor": 0
}
